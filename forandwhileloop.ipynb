{
 "cells": [
  {
   "cell_type": "markdown",
   "id": "638789aa",
   "metadata": {},
   "source": [
    "### For Loop"
   ]
  },
  {
   "cell_type": "markdown",
   "id": "7b75453a",
   "metadata": {},
   "source": [
    "#### sum fo squares of numbers"
   ]
  },
  {
   "cell_type": "code",
   "execution_count": 1,
   "id": "b345c409",
   "metadata": {},
   "outputs": [
    {
     "data": {
      "text/plain": [
       "5"
      ]
     },
     "execution_count": 1,
     "metadata": {},
     "output_type": "execute_result"
    }
   ],
   "source": [
    "numbers=[1,2]\n",
    "sum_=0\n",
    "\n",
    "for num in numbers:\n",
    "    sum_=sum_+num**2\n",
    "   \n",
    "sum_"
   ]
  },
  {
   "cell_type": "code",
   "execution_count": 2,
   "id": "798b0ea3",
   "metadata": {},
   "outputs": [
    {
     "data": {
      "text/plain": [
       "40"
      ]
     },
     "execution_count": 2,
     "metadata": {},
     "output_type": "execute_result"
    }
   ],
   "source": [
    "numbers=[1,2,3,1,5]\n",
    "sum_=0\n",
    "\n",
    "for num in numbers:\n",
    "    sum_=sum_+num**2\n",
    "   \n",
    "sum_\n",
    "    "
   ]
  },
  {
   "cell_type": "code",
   "execution_count": 3,
   "id": "56896ce8",
   "metadata": {},
   "outputs": [
    {
     "data": {
      "text/plain": [
       "30"
      ]
     },
     "execution_count": 3,
     "metadata": {},
     "output_type": "execute_result"
    }
   ],
   "source": [
    "numbers=[1,2,3,1,5]\n",
    "product_=1\n",
    "\n",
    "for i in numbers:\n",
    "    product_=product_*i\n",
    "   \n",
    "product_\n"
   ]
  },
  {
   "cell_type": "code",
   "execution_count": 4,
   "id": "fbb5319c",
   "metadata": {},
   "outputs": [
    {
     "data": {
      "text/plain": [
       "945"
      ]
     },
     "execution_count": 4,
     "metadata": {},
     "output_type": "execute_result"
    }
   ],
   "source": [
    "numbers=[1,3,5,7,9]\n",
    "product_=1\n",
    "\n",
    "for x in numbers:\n",
    "    product_=product_*x\n",
    "   \n",
    "product_"
   ]
  },
  {
   "cell_type": "code",
   "execution_count": 5,
   "id": "7e637dcc",
   "metadata": {},
   "outputs": [
    {
     "data": {
      "text/plain": [
       "945"
      ]
     },
     "execution_count": 5,
     "metadata": {},
     "output_type": "execute_result"
    }
   ],
   "source": [
    "1*3*5*7*9"
   ]
  },
  {
   "cell_type": "code",
   "execution_count": 9,
   "id": "66008580",
   "metadata": {},
   "outputs": [
    {
     "name": "stdout",
     "output_type": "stream",
     "text": [
      "Apple\n",
      "Banana\n",
      "Grapes\n",
      "Mango\n",
      "Papaya\n"
     ]
    }
   ],
   "source": [
    "fruits=[\"Apple\",\"Banana\",\"Grapes\",\"Mango\",\"Papaya\"]\n",
    "for fruit in fruits:\n",
    "    print(fruit)"
   ]
  },
  {
   "cell_type": "code",
   "execution_count": 10,
   "id": "cd9f0281",
   "metadata": {},
   "outputs": [
    {
     "name": "stdout",
     "output_type": "stream",
     "text": [
      "S\n",
      "h\n",
      "e\n",
      "e\n",
      "l\n",
      "a\n"
     ]
    }
   ],
   "source": [
    "for letter in \"Sheela\":\n",
    "    print(letter)\n"
   ]
  },
  {
   "cell_type": "code",
   "execution_count": 11,
   "id": "a68705a7",
   "metadata": {},
   "outputs": [
    {
     "name": "stdout",
     "output_type": "stream",
     "text": [
      "0\n",
      "1\n",
      "2\n",
      "3\n",
      "4\n"
     ]
    }
   ],
   "source": [
    "for i in range(5):\n",
    "    print(i)"
   ]
  },
  {
   "cell_type": "code",
   "execution_count": 12,
   "id": "40b03d4e",
   "metadata": {},
   "outputs": [
    {
     "data": {
      "text/plain": [
       "1080"
      ]
     },
     "execution_count": 12,
     "metadata": {},
     "output_type": "execute_result"
    }
   ],
   "source": [
    "numbers=[1,3,5,8,9]\n",
    "product_=1\n",
    "\n",
    "for i in numbers:\n",
    "    product_=product_*i\n",
    "   \n",
    "product_"
   ]
  },
  {
   "cell_type": "code",
   "execution_count": 14,
   "id": "e90ac676",
   "metadata": {},
   "outputs": [
    {
     "name": "stdout",
     "output_type": "stream",
     "text": [
      "4\n",
      "3\n",
      "2\n",
      "1\n",
      "0\n"
     ]
    }
   ],
   "source": [
    "for i in reversed(range(5)):\n",
    "    print(i)"
   ]
  },
  {
   "cell_type": "code",
   "execution_count": 19,
   "id": "58c505a5",
   "metadata": {},
   "outputs": [
    {
     "name": "stdout",
     "output_type": "stream",
     "text": [
      "the cube root of 64) is =3.9999999999999996\n"
     ]
    }
   ],
   "source": [
    "numbers=64\n",
    "cube_root=numbers**(1/3)\n",
    "print(f\"the cube root of {numbers} is ={cube_root}\")"
   ]
  },
  {
   "cell_type": "code",
   "execution_count": 24,
   "id": "073f4c5d",
   "metadata": {},
   "outputs": [
    {
     "name": "stdout",
     "output_type": "stream",
     "text": [
      "the cube root of 125 is = 5.0\n"
     ]
    }
   ],
   "source": [
    "numbers=125\n",
    "cube_root=numbers**(1/3)\n",
    "print(f\"the cube root of {numbers} is = {cube_root}\")"
   ]
  },
  {
   "cell_type": "code",
   "execution_count": 26,
   "id": "2b66ac6d",
   "metadata": {},
   "outputs": [
    {
     "name": "stdout",
     "output_type": "stream",
     "text": [
      "[3, 5, 6, 8, 4, 5, 7, 8, 10, 6]\n"
     ]
    }
   ],
   "source": [
    "my_list=[3,5,6,8,4]\n",
    "for num in range(len(my_list)):\n",
    "    my_list.append(my_list[num]+2)\n",
    "   \n",
    "print(my_list)"
   ]
  },
  {
   "cell_type": "markdown",
   "id": "53abc786",
   "metadata": {},
   "source": [
    "### While Loop"
   ]
  },
  {
   "cell_type": "code",
   "execution_count": 29,
   "id": "6cb5b58d",
   "metadata": {},
   "outputs": [
    {
     "name": "stdout",
     "output_type": "stream",
     "text": [
      "14\n"
     ]
    }
   ],
   "source": [
    "num=3\n",
    "\n",
    "summation=0\n",
    "\n",
    "c=1\n",
    "\n",
    "while c<=num:\n",
    "    summation=c**2+summation\n",
    "    c=c+1\n",
    "    \n",
    "print(summation)    "
   ]
  },
  {
   "cell_type": "code",
   "execution_count": 46,
   "id": "4167dfa0",
   "metadata": {},
   "outputs": [
    {
     "name": "stdout",
     "output_type": "stream",
     "text": [
      "12 is not a PRIME number\n",
      "12 is not a PRIME number\n",
      "14 is not a PRIME number\n",
      "14 is not a PRIME number\n",
      "6 is not a PRIME number\n",
      "6 is not a PRIME number\n",
      "7 is a PRIME number\n",
      "7 is a PRIME number\n",
      "9 is not a PRIME number\n",
      "9 is not a PRIME number\n",
      "19 is a PRIME number\n",
      "19 is a PRIME number\n",
      "25 is not a PRIME number\n",
      "25 is not a PRIME number\n",
      "36 is not a PRIME number\n",
      "36 is not a PRIME number\n"
     ]
    }
   ],
   "source": [
    "num=[12,14,6,7,9,19,25,36]\n",
    "def prime_number(number):\n",
    "    condition=0\n",
    "    iteration=2\n",
    "    \n",
    "    while iteration<=number /2:\n",
    "        if number % iteration == 0:\n",
    "            condition=1\n",
    "            break\n",
    "        iteration=iteration+1\n",
    "        \n",
    "    if condition == 0:\n",
    "            print(f\"{number} is a PRIME number\")\n",
    "    else:\n",
    "            print(f\"{number} is not a PRIME number\")\n",
    "            \n",
    "           \n",
    "        \n",
    "        \n",
    "for i in num:\n",
    "    prime_number(i)\n",
    "    \n",
    "    prime_number(i)\n",
    "   "
   ]
  },
  {
   "cell_type": "code",
   "execution_count": 48,
   "id": "b3140111",
   "metadata": {},
   "outputs": [
    {
     "name": "stdout",
     "output_type": "stream",
     "text": [
      "(7, -3)\n"
     ]
    }
   ],
   "source": [
    "num1=9\n",
    "num2=-6\n",
    "\n",
    "while num1>5 and num2<-5:\n",
    "    num1 -=2\n",
    "    num2 +=3\n",
    "    print((num1,num2))"
   ]
  },
  {
   "cell_type": "markdown",
   "id": "374cb73f",
   "metadata": {},
   "source": [
    "### Explaination\n",
    "#### num1-2 = 9-2\n",
    "#### num2+3 = -6+3\n",
    "\n",
    "(7,-3)\n",
    "\n"
   ]
  },
  {
   "cell_type": "code",
   "execution_count": 49,
   "id": "f2279b73",
   "metadata": {},
   "outputs": [
    {
     "name": "stdout",
     "output_type": "stream",
     "text": [
      "(7, 8)\n",
      "(5, 11)\n"
     ]
    }
   ],
   "source": [
    "num1=9\n",
    "num2=5\n",
    "\n",
    "while num1>5 or num2<-5:\n",
    "    num1 -=2\n",
    "    num2 +=3\n",
    "    print((num1,num2))"
   ]
  },
  {
   "cell_type": "markdown",
   "id": "7f453cf6",
   "metadata": {},
   "source": [
    "#### we have to check the given condition with the coming result - iteration\n"
   ]
  },
  {
   "cell_type": "code",
   "execution_count": 52,
   "id": "03ed75e7",
   "metadata": {},
   "outputs": [
    {
     "name": "stdout",
     "output_type": "stream",
     "text": [
      "P\n",
      "y\n",
      "t\n",
      "h\n",
      "o\n",
      "n\n",
      " \n",
      "P\n"
     ]
    }
   ],
   "source": [
    "for string in \"Python Programming\":\n",
    "    if string==\"r\":\n",
    "        break\n",
    "        \n",
    "    print(string)"
   ]
  },
  {
   "cell_type": "code",
   "execution_count": 53,
   "id": "d9c4aba4",
   "metadata": {},
   "outputs": [
    {
     "name": "stdout",
     "output_type": "stream",
     "text": [
      "P\n",
      "y\n",
      "t\n",
      "h\n",
      "o\n",
      "n\n",
      " \n",
      "P\n",
      "r\n",
      "o\n",
      "g\n",
      "r\n",
      "a\n"
     ]
    }
   ],
   "source": [
    "for string in \"Python Programming\":\n",
    "    if string==\"m\":\n",
    "        break\n",
    "       \n",
    "    print(string)"
   ]
  },
  {
   "cell_type": "code",
   "execution_count": 54,
   "id": "7691efe5",
   "metadata": {},
   "outputs": [
    {
     "name": "stdout",
     "output_type": "stream",
     "text": [
      "P\n",
      "y\n",
      "t\n",
      "h\n",
      "o\n",
      "n\n",
      " \n",
      "P\n",
      "r\n",
      "o\n"
     ]
    }
   ],
   "source": [
    "for string in \"Python Programming\":\n",
    "    if string==\"g\":\n",
    "        break\n",
    "       \n",
    "    print(string)"
   ]
  },
  {
   "cell_type": "code",
   "execution_count": 55,
   "id": "90383d8c",
   "metadata": {},
   "outputs": [
    {
     "name": "stdout",
     "output_type": "stream",
     "text": [
      "C\n",
      "a\n",
      "l\n",
      "c\n",
      "u\n",
      "l\n",
      "a\n",
      "t\n",
      "o\n"
     ]
    }
   ],
   "source": [
    "for item in \"Calculator\":\n",
    "    if item==\"r\":\n",
    "        break\n",
    "       \n",
    "    print(item)"
   ]
  },
  {
   "cell_type": "code",
   "execution_count": 56,
   "id": "88435317",
   "metadata": {},
   "outputs": [
    {
     "name": "stdout",
     "output_type": "stream",
     "text": [
      "C\n",
      "l\n",
      "c\n",
      "u\n",
      "l\n",
      "t\n",
      "o\n",
      "r\n"
     ]
    }
   ],
   "source": [
    "for item in \"Calculator\":\n",
    "    if item==\"a\":\n",
    "        continue\n",
    "       \n",
    "    print(item)"
   ]
  },
  {
   "cell_type": "code",
   "execution_count": null,
   "id": "0d64e716",
   "metadata": {},
   "outputs": [],
   "source": []
  }
 ],
 "metadata": {
  "kernelspec": {
   "display_name": "Python 3 (ipykernel)",
   "language": "python",
   "name": "python3"
  },
  "language_info": {
   "codemirror_mode": {
    "name": "ipython",
    "version": 3
   },
   "file_extension": ".py",
   "mimetype": "text/x-python",
   "name": "python",
   "nbconvert_exporter": "python",
   "pygments_lexer": "ipython3",
   "version": "3.11.5"
  }
 },
 "nbformat": 4,
 "nbformat_minor": 5
}
